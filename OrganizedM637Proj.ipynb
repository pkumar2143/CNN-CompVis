{
 "cells": [
  {
   "cell_type": "markdown",
   "metadata": {},
   "source": [
    "### M637 Project Notebook\n",
    "Pro Kumar"
   ]
  },
  {
   "cell_type": "code",
   "execution_count": 2,
   "metadata": {},
   "outputs": [
    {
     "name": "stderr",
     "output_type": "stream",
     "text": [
      "Using TensorFlow backend.\n"
     ]
    }
   ],
   "source": [
    "import tensorflow as tf\n",
    "import numpy as np\n",
    "import pandas as pd\n",
    "import math\n",
    "import statistics as stat\n",
    "import time\n",
    "import os, shutil\n",
    "import matplotlib.pyplot as plt\n",
    "import PIL\n",
    "import random\n",
    "import h5py\n",
    "from matplotlib.image import imread\n",
    "from tensorflow import keras\n",
    "from tensorflow.keras import datasets, layers, models, activations\n",
    "from keras.preprocessing.image import ImageDataGenerator\n",
    "from keras import optimizers, models, layers, regularizers\n",
    "from keras.callbacks import EarlyStopping, ModelCheckpoint\n",
    "from keras.models import load_model\n",
    "from tensorflow.keras.optimizers import RMSprop\n",
    "from PIL import Image, ImageOps\n",
    "from numpy import asarray\n",
    "from sklearn.model_selection import train_test_split\n",
    "from sklearn.metrics import confusion_matrix, f1_score, precision_score, recall_score"
   ]
  },
  {
   "cell_type": "markdown",
   "metadata": {},
   "source": [
    "***"
   ]
  },
  {
   "cell_type": "markdown",
   "metadata": {},
   "source": [
    "### Generate RGB Arrays/Labels"
   ]
  },
  {
   "cell_type": "code",
   "execution_count": 3,
   "metadata": {},
   "outputs": [
    {
     "name": "stdout",
     "output_type": "stream",
     "text": [
      "{0: 1599, 1: 1599}\n",
      "Total instances =  3198\n"
     ]
    }
   ],
   "source": [
    "# Looping over full b cancer img directory\n",
    "directory = 'b_cancer_ims'\n",
    "labels_n = [] # 0 = no IDC, 1 = IDC\n",
    "labels_p = [] \n",
    "ims2_p = [] # populate with + images\n",
    "ims2_n = [] \n",
    "\n",
    "start_pat1 = 93 # random.randint(1,270) # len(os.listdir(directory)) = 280\n",
    "end_pat = start_pat1 + 7 # Don't want too many images\n",
    "\n",
    "for folder1 in os.listdir(directory)[start_pat1:end_pat]:\n",
    "    for folder2 in os.listdir(directory+'/'+folder1):\n",
    "        for image in os.listdir(directory+'/'+folder1+'/'+folder2)[1:]: #first path not-included\n",
    "            #print(directory+'/'+folder1+'/'+folder2+'/'+image)\n",
    "            im = Image.open(directory+'/'+folder1+'/'+folder2+'/'+image) ################################ RGB\n",
    "            if im.size == (50,50): # Discarding non-standardized images\n",
    "                if (image[-5]=='0'):\n",
    "                    ims2_n.append(asarray(im)/255)\n",
    "                    labels_n.append(0)\n",
    "                else:\n",
    "                    ims2_p.append(asarray(im)/255)\n",
    "                    labels_p.append(1)\n",
    "\n",
    "ims2_n = np.array(ims2_n)\n",
    "ims2_p = np.array(ims2_p)\n",
    "labels_p = np.array(labels_p)\n",
    "labels_n = np.array(labels_n)\n",
    "\n",
    "# Equalize num of +/- cases\n",
    "if len(ims2_p)<len(ims2_n):\n",
    "    ims2_n = ims2_n[0:len(ims2_p)]\n",
    "    labels_n = labels_n[0:len(labels_p)]\n",
    "else: \n",
    "    ims2_p = ims2_p[0:len(ims2_n)]\n",
    "    labels_p = labels_p[0:len(labels_n)]\n",
    "    \n",
    "labels = np.concatenate((labels_p,labels_n))\n",
    "ims2 = np.concatenate((ims2_p,ims2_n))\n",
    "\n",
    "unique, counts = np.unique(labels, return_counts=True)\n",
    "print(dict(zip(unique, counts)))\n",
    "print('Total instances = ',2*counts[0])"
   ]
  },
  {
   "cell_type": "markdown",
   "metadata": {},
   "source": [
    "### Create Train Test Split of this data set & form grayscale images"
   ]
  },
  {
   "cell_type": "code",
   "execution_count": 4,
   "metadata": {},
   "outputs": [],
   "source": [
    "x_train2, x_test2, y_train2, y_test2 = train_test_split(ims2, labels, test_size=0.25)"
   ]
  },
  {
   "cell_type": "markdown",
   "metadata": {},
   "source": [
    "RGB array to Gray Array Formula from [Pillow documentation](https://pillow.readthedocs.io/en/3.1.x/reference/Image.html)."
   ]
  },
  {
   "cell_type": "code",
   "execution_count": 5,
   "metadata": {},
   "outputs": [
    {
     "name": "stdout",
     "output_type": "stream",
     "text": [
      "2398 and 800\n"
     ]
    }
   ],
   "source": [
    "ims2_gray_xtrain = []\n",
    "ims2_gray_xtest = []\n",
    "\n",
    "for i in range(len(x_train2)):\n",
    "    ims2_gray_xtrain.append(np.dot(x_train2[i],[0.299, 0.587, 0.114]))\n",
    "\n",
    "for i in range(len(x_test2)):\n",
    "    ims2_gray_xtest.append(np.dot(x_test2[i],[0.299, 0.587, 0.114]))\n",
    "\n",
    "print(len(ims2_gray_xtrain),'and',len(ims2_gray_xtest))\n",
    "\n",
    "ims2_gray_xtrain = np.array(ims2_gray_xtrain)\n",
    "ims2_gray_xtest = np.array(ims2_gray_xtest)"
   ]
  },
  {
   "cell_type": "markdown",
   "metadata": {},
   "source": [
    "***"
   ]
  },
  {
   "cell_type": "markdown",
   "metadata": {},
   "source": [
    "### TF Tutorial NN on Gray"
   ]
  },
  {
   "cell_type": "code",
   "execution_count": 5,
   "metadata": {},
   "outputs": [
    {
     "name": "stdout",
     "output_type": "stream",
     "text": [
      "0.57087505\n",
      "0.0762501\n"
     ]
    }
   ],
   "source": [
    "scores0 = []\n",
    "n=50\n",
    "for i in range(20): \n",
    "    gray_model = keras.Sequential([\n",
    "            keras.layers.Flatten(input_shape=(n,n)),\n",
    "            keras.layers.Dense(128, activation='relu'), # Originally 128 units\n",
    "            keras.layers.Dense(10)\n",
    "        ])\n",
    "\n",
    "    gray_model.compile(optimizer='adam',\n",
    "                      loss=tf.keras.losses.SparseCategoricalCrossentropy(from_logits=True),\n",
    "                      metrics=['accuracy'])\n",
    "\n",
    "    # Fit NN model to train-split with 10 epochs\n",
    "    gray_model.fit(ims2_gray_xtrain, y_train2, epochs=10,verbose=0)\n",
    "\n",
    "    # Calculate accuracy on test-split\n",
    "    test_loss, test_acc = gray_model.evaluate(ims2_gray_xtest,  y_test2, verbose=0)\n",
    "    scores0.append(test_acc)\n",
    "\n",
    "print(np.mean(scores0))\n",
    "print(np.std(scores0))"
   ]
  },
  {
   "cell_type": "code",
   "execution_count": null,
   "metadata": {},
   "outputs": [],
   "source": [
    "test_loss, test_acc = gray_model.evaluate(ims2_gray_xtest,  y_test2, verbose=0)\n",
    "print(test_acc)"
   ]
  },
  {
   "cell_type": "markdown",
   "metadata": {},
   "source": [
    "#### Gray Generalizability"
   ]
  },
  {
   "cell_type": "code",
   "execution_count": 6,
   "metadata": {},
   "outputs": [
    {
     "name": "stdout",
     "output_type": "stream",
     "text": [
      "0.625625\n",
      "0.05812499\n"
     ]
    }
   ],
   "source": [
    "scores2 = []\n",
    "n=50\n",
    "for i in range(20):\n",
    "    gray_model = keras.Sequential([\n",
    "            keras.layers.Flatten(input_shape=(n,n)),\n",
    "            keras.layers.Dense(128, activation='relu'), # Originally 128 units\n",
    "            keras.layers.Dense(10)\n",
    "        ])\n",
    "\n",
    "    gray_model.compile(optimizer='adam',\n",
    "                      loss=tf.keras.losses.SparseCategoricalCrossentropy(from_logits=True),\n",
    "                      metrics=['accuracy'])\n",
    "\n",
    "    # Fit NN model to train-split with 10 epochs\n",
    "    gray_model.fit(ims2_gray_xtrain, y_train2, epochs=10,verbose=0)\n",
    "\n",
    "    # Calculate accuracy on test-split\n",
    "    test_loss, test_acc = gray_model.evaluate(ims2_gray_xtest,  y_test2, verbose=0)\n",
    "    scores2.append(test_acc)\n",
    "\n",
    "print(np.mean(scores2))\n",
    "print(np.std(scores2))"
   ]
  },
  {
   "cell_type": "code",
   "execution_count": 64,
   "metadata": {
    "collapsed": true,
    "jupyter": {
     "outputs_hidden": true
    }
   },
   "outputs": [
    {
     "name": "stdout",
     "output_type": "stream",
     "text": [
      "269\n",
      "196\n",
      "165\n",
      "27\n",
      "200\n",
      "177\n",
      "109\n",
      "192\n",
      "114\n",
      "184\n",
      "128\n",
      "145\n",
      "39\n",
      "211\n",
      "140\n",
      "157\n",
      "173\n",
      "192\n",
      "215\n",
      "240\n",
      "174\n",
      "26\n",
      "110\n",
      "157\n",
      "181\n",
      "93\n",
      "196\n",
      "46\n",
      "4\n",
      "179\n"
     ]
    }
   ],
   "source": [
    "directory = 'b_cancer_ims'\n",
    "gray_accs = []\n",
    "for i in range(30):\n",
    "    gray_test_labels = [] # 0 = no IDC, 1 = IDC\n",
    "    gray_test_ims = [] # populate with + images\n",
    "\n",
    "    # Selecting random group of conseccutive patients\n",
    "    start_pat1 = random.randint(1,270) # len(os.listdir(directory)) = 280\n",
    "    end_pat = start_pat1 + random.randint(1,3) # Picking at most 3 patients worth of data. Want quick computations\n",
    "\n",
    "    for folder1 in os.listdir(directory)[start_pat1:end_pat]:\n",
    "        for folder2 in os.listdir(directory+'/'+folder1):\n",
    "            for image in os.listdir(directory+'/'+folder1+'/'+folder2)[1:]: #first path not-included\n",
    "                #print(directory+'/'+folder1+'/'+folder2+'/'+image)\n",
    "                im = Image.open(directory+'/'+folder1+'/'+folder2+'/'+image).convert('L') ################ Gray\n",
    "                if im.size == (50,50): # Discarding non-standardized images.\n",
    "                    if (image[-5]=='0'):\n",
    "                        gray_test_ims.append(asarray(im)/255)\n",
    "                        gray_test_labels.append(0)\n",
    "                    else:\n",
    "                        gray_test_ims.append(asarray(im)/255)\n",
    "                        gray_test_labels.append(1)\n",
    "\n",
    "    gray_test_ims = np.array(gray_test_ims)\n",
    "    gray_test_labels = np.array(gray_test_labels)\n",
    "    \n",
    "    print(start_pat1)\n",
    "    test_loss, test_acc = gray_model.evaluate(gray_test_ims, gray_test_labels, verbose=0)\n",
    "    gray_accs.append(test_acc)"
   ]
  },
  {
   "cell_type": "code",
   "execution_count": 65,
   "metadata": {},
   "outputs": [
    {
     "name": "stdout",
     "output_type": "stream",
     "text": [
      "0.6621306\n",
      "0.12588732\n"
     ]
    }
   ],
   "source": [
    "print(np.mean(gray_accs))\n",
    "print(np.std(gray_accs))"
   ]
  },
  {
   "cell_type": "markdown",
   "metadata": {},
   "source": [
    "***"
   ]
  },
  {
   "cell_type": "markdown",
   "metadata": {},
   "source": [
    "### TF Tutorial NN on RGB"
   ]
  },
  {
   "cell_type": "code",
   "execution_count": 11,
   "metadata": {},
   "outputs": [
    {
     "name": "stdout",
     "output_type": "stream",
     "text": [
      "0.7685\n",
      "0.048775\n"
     ]
    }
   ],
   "source": [
    "scores1 = []\n",
    "n=50\n",
    "for i in range(20):\n",
    "    rgb_model = keras.Sequential([\n",
    "            keras.layers.Flatten(input_shape=(n,n,3)),\n",
    "            keras.layers.Dense(128, activation='relu'), # Originally 128 units\n",
    "            keras.layers.Dense(10)\n",
    "        ])\n",
    "\n",
    "    rgb_model.compile(optimizer='adam',\n",
    "                      loss=tf.keras.losses.SparseCategoricalCrossentropy(from_logits=True),\n",
    "                      metrics=['accuracy'])\n",
    "\n",
    "    # Fit NN model to train-split with 10 epochs\n",
    "    rgb_model.fit(x_train2, y_train2, epochs=10,verbose=0)\n",
    "\n",
    "    # Calculate accuracy on test-split\n",
    "    test_loss, test_acc = rgb_model.evaluate(x_test2,  y_test2, verbose=0)\n",
    "    scores1.append(test_acc)\n",
    "\n",
    "print(np.mean(scores1))\n",
    "print(np.std(scores1))"
   ]
  },
  {
   "cell_type": "code",
   "execution_count": 66,
   "metadata": {},
   "outputs": [
    {
     "name": "stdout",
     "output_type": "stream",
     "text": [
      "253\n",
      "207\n",
      "182\n",
      "159\n",
      "130\n",
      "133\n",
      "240\n",
      "175\n",
      "99\n",
      "46\n",
      "190\n",
      "22\n",
      "92\n",
      "241\n",
      "191\n",
      "145\n",
      "133\n",
      "232\n",
      "251\n",
      "268\n",
      "180\n",
      "168\n",
      "75\n",
      "252\n",
      "169\n",
      "127\n",
      "197\n",
      "71\n",
      "225\n",
      "172\n"
     ]
    }
   ],
   "source": [
    "directory = 'b_cancer_ims'\n",
    "rgb_accs = []\n",
    "for i in range(30):\n",
    "    gray_test_labels = [] # 0 = no IDC, 1 = IDC\n",
    "    gray_test_ims = [] # populate with + images\n",
    "\n",
    "    # Selecting random group of conseccutive patients\n",
    "    start_pat1 = random.randint(1,270) # len(os.listdir(directory)) = 280\n",
    "    end_pat = start_pat1 + random.randint(1,3) # Picking at most 3 patients worth of data. Want quick computations\n",
    "\n",
    "    for folder1 in os.listdir(directory)[start_pat1:end_pat]:\n",
    "        for folder2 in os.listdir(directory+'/'+folder1):\n",
    "            for image in os.listdir(directory+'/'+folder1+'/'+folder2)[1:]: #first path not-included\n",
    "                #print(directory+'/'+folder1+'/'+folder2+'/'+image)\n",
    "                im = Image.open(directory+'/'+folder1+'/'+folder2+'/'+image) ################ RGB\n",
    "                if im.size == (50,50): # Discarding non-standardized images.\n",
    "                    if (image[-5]=='0'):\n",
    "                        gray_test_ims.append(asarray(im)/255)\n",
    "                        gray_test_labels.append(0)\n",
    "                    else:\n",
    "                        gray_test_ims.append(asarray(im)/255)\n",
    "                        gray_test_labels.append(1)\n",
    "\n",
    "    gray_test_ims = np.array(gray_test_ims)\n",
    "    gray_test_labels = np.array(gray_test_labels)\n",
    "    \n",
    "    print(start_pat1)\n",
    "    test_loss, test_acc = rgb_model.evaluate(gray_test_ims, gray_test_labels, verbose=0)\n",
    "    rgb_accs.append(test_acc)"
   ]
  },
  {
   "cell_type": "code",
   "execution_count": 67,
   "metadata": {},
   "outputs": [
    {
     "name": "stdout",
     "output_type": "stream",
     "text": [
      "0.77271163\n",
      "0.10619183\n"
     ]
    }
   ],
   "source": [
    "print(np.mean(rgb_accs))\n",
    "print(np.std(rgb_accs))"
   ]
  },
  {
   "cell_type": "markdown",
   "metadata": {},
   "source": [
    "***"
   ]
  },
  {
   "cell_type": "markdown",
   "metadata": {},
   "source": [
    "### ProNet"
   ]
  },
  {
   "cell_type": "code",
   "execution_count": 23,
   "metadata": {},
   "outputs": [
    {
     "name": "stdout",
     "output_type": "stream",
     "text": [
      "Model: \"sequential_5\"\n",
      "_________________________________________________________________\n",
      "Layer (type)                 Output Shape              Param #   \n",
      "=================================================================\n",
      "conv2d_21 (Conv2D)           (None, 50, 50, 32)        896       \n",
      "_________________________________________________________________\n",
      "conv2d_22 (Conv2D)           (None, 50, 50, 32)        9248      \n",
      "_________________________________________________________________\n",
      "max_pooling2d_16 (MaxPooling (None, 25, 25, 32)        0         \n",
      "_________________________________________________________________\n",
      "conv2d_23 (Conv2D)           (None, 23, 23, 32)        9248      \n",
      "_________________________________________________________________\n",
      "max_pooling2d_17 (MaxPooling (None, 11, 11, 32)        0         \n",
      "_________________________________________________________________\n",
      "conv2d_24 (Conv2D)           (None, 9, 9, 32)          9248      \n",
      "_________________________________________________________________\n",
      "max_pooling2d_18 (MaxPooling (None, 4, 4, 32)          0         \n",
      "_________________________________________________________________\n",
      "conv2d_25 (Conv2D)           (None, 2, 2, 64)          18496     \n",
      "_________________________________________________________________\n",
      "max_pooling2d_19 (MaxPooling (None, 1, 1, 64)          0         \n",
      "_________________________________________________________________\n",
      "dropout_4 (Dropout)          (None, 1, 1, 64)          0         \n",
      "_________________________________________________________________\n",
      "flatten_5 (Flatten)          (None, 64)                0         \n",
      "_________________________________________________________________\n",
      "dense_11 (Dense)             (None, 128)               8320      \n",
      "_________________________________________________________________\n",
      "dense_12 (Dense)             (None, 1)                 129       \n",
      "=================================================================\n",
      "Total params: 55,585\n",
      "Trainable params: 55,585\n",
      "Non-trainable params: 0\n",
      "_________________________________________________________________\n"
     ]
    }
   ],
   "source": [
    "model = models.Sequential()\n",
    "model.add(layers.Conv2D(32, (3, 3), activation='relu', input_shape=(50, 50, 3),padding='same'))\n",
    "model.add(layers.Conv2D(32, (3, 3), activation='relu', padding='same'))\n",
    "\n",
    "model.add(layers.MaxPooling2D((2,2)))\n",
    "\n",
    "model.add(layers.Conv2D(32, (3, 3), activation='relu'))\n",
    "\n",
    "model.add(layers.MaxPooling2D((2,2)))\n",
    "\n",
    "model.add(layers.Conv2D(32, (3, 3), activation='relu'))\n",
    "\n",
    "model.add(layers.MaxPooling2D((2,2)))\n",
    "\n",
    "model.add(layers.Conv2D(64, (3, 3), activation='relu',kernel_regularizer=regularizers.l1(2e-5))) # 2e-5 ideal\n",
    "\n",
    "model.add(layers.MaxPooling2D((2,2)))\n",
    "\n",
    "model.add(layers.Dropout(0.5))\n",
    "\n",
    "model.add(layers.Flatten())\n",
    "model.add(layers.Dense(128, activation='relu')) # Optimal at 128, so far\n",
    "model.add(layers.Dense(1, activation='sigmoid'))\n",
    "\n",
    "opt = optimizers.Adam(learning_rate=1e-4) # 5e-5 ideal-ish\n",
    "\n",
    "model.compile(optimizer= opt,\n",
    "              loss= 'binary_crossentropy',\n",
    "              metrics=['acc'])\n",
    "\n",
    "model.summary()"
   ]
  },
  {
   "cell_type": "code",
   "execution_count": 24,
   "metadata": {
    "collapsed": true,
    "jupyter": {
     "outputs_hidden": true
    }
   },
   "outputs": [
    {
     "name": "stdout",
     "output_type": "stream",
     "text": [
      "Train on 1798 samples, validate on 600 samples\n",
      "Epoch 1/80\n",
      "1798/1798 [==============================] - 8s 5ms/step - loss: 0.7076 - acc: 0.5350 - val_loss: 0.7034 - val_acc: 0.6200\n",
      "\n",
      "Epoch 00001: val_loss improved from inf to 0.70336, saving model to best_model_4.h5\n",
      "Epoch 2/80\n",
      "1798/1798 [==============================] - 6s 4ms/step - loss: 0.6911 - acc: 0.6941 - val_loss: 0.6546 - val_acc: 0.7950\n",
      "\n",
      "Epoch 00002: val_loss improved from 0.70336 to 0.65458, saving model to best_model_4.h5\n",
      "Epoch 3/80\n",
      "1798/1798 [==============================] - 6s 4ms/step - loss: 0.5892 - acc: 0.7881 - val_loss: 0.4686 - val_acc: 0.8483\n",
      "\n",
      "Epoch 00003: val_loss improved from 0.65458 to 0.46864, saving model to best_model_4.h5\n",
      "Epoch 4/80\n",
      "1798/1798 [==============================] - 6s 4ms/step - loss: 0.4683 - acc: 0.8276 - val_loss: 0.4247 - val_acc: 0.8417\n",
      "\n",
      "Epoch 00004: val_loss improved from 0.46864 to 0.42474, saving model to best_model_4.h5\n",
      "Epoch 5/80\n",
      "1798/1798 [==============================] - 6s 4ms/step - loss: 0.4316 - acc: 0.8415 - val_loss: 0.4035 - val_acc: 0.8617\n",
      "\n",
      "Epoch 00005: val_loss improved from 0.42474 to 0.40346, saving model to best_model_4.h5\n",
      "Epoch 6/80\n",
      "1798/1798 [==============================] - 6s 4ms/step - loss: 0.4088 - acc: 0.8465 - val_loss: 0.3853 - val_acc: 0.8617\n",
      "\n",
      "Epoch 00006: val_loss improved from 0.40346 to 0.38528, saving model to best_model_4.h5\n",
      "Epoch 7/80\n",
      "1798/1798 [==============================] - 6s 3ms/step - loss: 0.4171 - acc: 0.8404 - val_loss: 0.3896 - val_acc: 0.8467\n",
      "\n",
      "Epoch 00007: val_loss did not improve from 0.38528\n",
      "Epoch 8/80\n",
      "1798/1798 [==============================] - 6s 4ms/step - loss: 0.3868 - acc: 0.8487 - val_loss: 0.3939 - val_acc: 0.8383\n",
      "\n",
      "Epoch 00008: val_loss did not improve from 0.38528\n",
      "Epoch 9/80\n",
      "1798/1798 [==============================] - 6s 4ms/step - loss: 0.3808 - acc: 0.8548 - val_loss: 0.3594 - val_acc: 0.8667\n",
      "\n",
      "Epoch 00009: val_loss improved from 0.38528 to 0.35944, saving model to best_model_4.h5\n",
      "Epoch 10/80\n",
      "1798/1798 [==============================] - 6s 4ms/step - loss: 0.3721 - acc: 0.8548 - val_loss: 0.3570 - val_acc: 0.8650\n",
      "\n",
      "Epoch 00010: val_loss improved from 0.35944 to 0.35696, saving model to best_model_4.h5\n",
      "Epoch 11/80\n",
      "1798/1798 [==============================] - 6s 4ms/step - loss: 0.3523 - acc: 0.8615 - val_loss: 0.3444 - val_acc: 0.8667\n",
      "\n",
      "Epoch 00011: val_loss improved from 0.35696 to 0.34436, saving model to best_model_4.h5\n",
      "Epoch 12/80\n",
      "1798/1798 [==============================] - 6s 4ms/step - loss: 0.3555 - acc: 0.8504 - val_loss: 0.3806 - val_acc: 0.8067\n",
      "\n",
      "Epoch 00012: val_loss did not improve from 0.34436\n",
      "Epoch 13/80\n",
      "1798/1798 [==============================] - 6s 4ms/step - loss: 0.3366 - acc: 0.8699 - val_loss: 0.3252 - val_acc: 0.8683\n",
      "\n",
      "Epoch 00013: val_loss improved from 0.34436 to 0.32522, saving model to best_model_4.h5\n",
      "Epoch 14/80\n",
      "1798/1798 [==============================] - 6s 4ms/step - loss: 0.3277 - acc: 0.8626 - val_loss: 0.3097 - val_acc: 0.8783\n",
      "\n",
      "Epoch 00014: val_loss improved from 0.32522 to 0.30974, saving model to best_model_4.h5\n",
      "Epoch 15/80\n",
      "1798/1798 [==============================] - 6s 4ms/step - loss: 0.3314 - acc: 0.8587 - val_loss: 0.3005 - val_acc: 0.8833\n",
      "\n",
      "Epoch 00015: val_loss improved from 0.30974 to 0.30049, saving model to best_model_4.h5\n",
      "Epoch 16/80\n",
      "1798/1798 [==============================] - 6s 4ms/step - loss: 0.3124 - acc: 0.8693 - val_loss: 0.3129 - val_acc: 0.8833\n",
      "\n",
      "Epoch 00016: val_loss did not improve from 0.30049\n",
      "Epoch 17/80\n",
      "1798/1798 [==============================] - 6s 4ms/step - loss: 0.3327 - acc: 0.8665 - val_loss: 0.3060 - val_acc: 0.8767\n",
      "\n",
      "Epoch 00017: val_loss did not improve from 0.30049\n",
      "Epoch 18/80\n",
      "1798/1798 [==============================] - 6s 4ms/step - loss: 0.3128 - acc: 0.8721 - val_loss: 0.2838 - val_acc: 0.8967\n",
      "\n",
      "Epoch 00018: val_loss improved from 0.30049 to 0.28382, saving model to best_model_4.h5\n",
      "Epoch 19/80\n",
      "1798/1798 [==============================] - 6s 4ms/step - loss: 0.3264 - acc: 0.8726 - val_loss: 0.2882 - val_acc: 0.8917\n",
      "\n",
      "Epoch 00019: val_loss did not improve from 0.28382\n",
      "Epoch 20/80\n",
      "1798/1798 [==============================] - 6s 4ms/step - loss: 0.2851 - acc: 0.8888 - val_loss: 0.2772 - val_acc: 0.8967\n",
      "\n",
      "Epoch 00020: val_loss improved from 0.28382 to 0.27722, saving model to best_model_4.h5\n",
      "Epoch 21/80\n",
      "1798/1798 [==============================] - 6s 4ms/step - loss: 0.2991 - acc: 0.8826 - val_loss: 0.2800 - val_acc: 0.8950\n",
      "\n",
      "Epoch 00021: val_loss did not improve from 0.27722\n",
      "Epoch 22/80\n",
      "1798/1798 [==============================] - 6s 4ms/step - loss: 0.3063 - acc: 0.8648 - val_loss: 0.3628 - val_acc: 0.8683\n",
      "\n",
      "Epoch 00022: val_loss did not improve from 0.27722\n",
      "Epoch 23/80\n",
      "1798/1798 [==============================] - 6s 4ms/step - loss: 0.3172 - acc: 0.8671 - val_loss: 0.2741 - val_acc: 0.8967\n",
      "\n",
      "Epoch 00023: val_loss improved from 0.27722 to 0.27414, saving model to best_model_4.h5\n",
      "Epoch 24/80\n",
      "1798/1798 [==============================] - 6s 4ms/step - loss: 0.2908 - acc: 0.8782 - val_loss: 0.2820 - val_acc: 0.8800\n",
      "\n",
      "Epoch 00024: val_loss did not improve from 0.27414\n",
      "Epoch 25/80\n",
      "1798/1798 [==============================] - 7s 4ms/step - loss: 0.2713 - acc: 0.8943 - val_loss: 0.2772 - val_acc: 0.8950\n",
      "\n",
      "Epoch 00025: val_loss did not improve from 0.27414\n",
      "Epoch 26/80\n",
      "1798/1798 [==============================] - 7s 4ms/step - loss: 0.2686 - acc: 0.8888 - val_loss: 0.2824 - val_acc: 0.8900\n",
      "\n",
      "Epoch 00026: val_loss did not improve from 0.27414\n",
      "Epoch 27/80\n",
      "1798/1798 [==============================] - 6s 4ms/step - loss: 0.2711 - acc: 0.8899 - val_loss: 0.2572 - val_acc: 0.8983\n",
      "\n",
      "Epoch 00027: val_loss improved from 0.27414 to 0.25723, saving model to best_model_4.h5\n",
      "Epoch 28/80\n",
      "1798/1798 [==============================] - 6s 4ms/step - loss: 0.2681 - acc: 0.8899 - val_loss: 0.2588 - val_acc: 0.8950\n",
      "\n",
      "Epoch 00028: val_loss did not improve from 0.25723\n",
      "Epoch 29/80\n",
      "1798/1798 [==============================] - 6s 4ms/step - loss: 0.2740 - acc: 0.8877 - val_loss: 0.2818 - val_acc: 0.8967\n",
      "\n",
      "Epoch 00029: val_loss did not improve from 0.25723\n",
      "Epoch 30/80\n",
      "1798/1798 [==============================] - 6s 4ms/step - loss: 0.2640 - acc: 0.8921 - val_loss: 0.2656 - val_acc: 0.8967\n",
      "\n",
      "Epoch 00030: val_loss did not improve from 0.25723\n",
      "Epoch 31/80\n",
      "1798/1798 [==============================] - 6s 4ms/step - loss: 0.2662 - acc: 0.8932 - val_loss: 0.2873 - val_acc: 0.8867\n",
      "\n",
      "Epoch 00031: val_loss did not improve from 0.25723\n",
      "Epoch 32/80\n",
      "1798/1798 [==============================] - 6s 4ms/step - loss: 0.2688 - acc: 0.8932 - val_loss: 0.2767 - val_acc: 0.8817\n",
      "\n",
      "Epoch 00032: val_loss did not improve from 0.25723\n",
      "Epoch 33/80\n",
      "1798/1798 [==============================] - 6s 4ms/step - loss: 0.2679 - acc: 0.8865 - val_loss: 0.2897 - val_acc: 0.8733\n",
      "\n",
      "Epoch 00033: val_loss did not improve from 0.25723\n",
      "Epoch 34/80\n",
      "1798/1798 [==============================] - 6s 4ms/step - loss: 0.2698 - acc: 0.8915 - val_loss: 0.2644 - val_acc: 0.8983\n",
      "\n",
      "Epoch 00034: val_loss did not improve from 0.25723\n",
      "Epoch 35/80\n",
      "1798/1798 [==============================] - 6s 4ms/step - loss: 0.2692 - acc: 0.8888 - val_loss: 0.2724 - val_acc: 0.8950\n",
      "\n",
      "Epoch 00035: val_loss did not improve from 0.25723\n",
      "Epoch 36/80\n",
      "1798/1798 [==============================] - 6s 4ms/step - loss: 0.2590 - acc: 0.8921 - val_loss: 0.2964 - val_acc: 0.8667\n",
      "\n",
      "Epoch 00036: val_loss did not improve from 0.25723\n",
      "Epoch 37/80\n",
      "1798/1798 [==============================] - 6s 4ms/step - loss: 0.2624 - acc: 0.8921 - val_loss: 0.2502 - val_acc: 0.9017\n",
      "\n",
      "Epoch 00037: val_loss improved from 0.25723 to 0.25017, saving model to best_model_4.h5\n",
      "Epoch 38/80\n",
      "1798/1798 [==============================] - 6s 4ms/step - loss: 0.2559 - acc: 0.8932 - val_loss: 0.2627 - val_acc: 0.8900\n",
      "\n",
      "Epoch 00038: val_loss did not improve from 0.25017\n",
      "Epoch 39/80\n",
      "1798/1798 [==============================] - 6s 4ms/step - loss: 0.2837 - acc: 0.8804 - val_loss: 0.2694 - val_acc: 0.8900\n",
      "\n",
      "Epoch 00039: val_loss did not improve from 0.25017\n",
      "Epoch 40/80\n",
      "1798/1798 [==============================] - 6s 4ms/step - loss: 0.2531 - acc: 0.8921 - val_loss: 0.2573 - val_acc: 0.9000\n",
      "\n",
      "Epoch 00040: val_loss did not improve from 0.25017\n",
      "Epoch 41/80\n",
      "1798/1798 [==============================] - 6s 4ms/step - loss: 0.2531 - acc: 0.8927 - val_loss: 0.2561 - val_acc: 0.8933\n",
      "\n",
      "Epoch 00041: val_loss did not improve from 0.25017\n",
      "Epoch 42/80\n",
      "1798/1798 [==============================] - 6s 4ms/step - loss: 0.2509 - acc: 0.8938 - val_loss: 0.2585 - val_acc: 0.8950\n",
      "\n",
      "Epoch 00042: val_loss did not improve from 0.25017\n",
      "Epoch 43/80\n",
      "1798/1798 [==============================] - 6s 4ms/step - loss: 0.2463 - acc: 0.9004 - val_loss: 0.2761 - val_acc: 0.8950\n",
      "\n",
      "Epoch 00043: val_loss did not improve from 0.25017\n",
      "Epoch 44/80\n",
      "1798/1798 [==============================] - 6s 4ms/step - loss: 0.2546 - acc: 0.8966 - val_loss: 0.2670 - val_acc: 0.8933\n",
      "\n",
      "Epoch 00044: val_loss did not improve from 0.25017\n",
      "Epoch 45/80\n",
      "1798/1798 [==============================] - 6s 4ms/step - loss: 0.2552 - acc: 0.8927 - val_loss: 0.2814 - val_acc: 0.8833\n",
      "\n",
      "Epoch 00045: val_loss did not improve from 0.25017\n",
      "Epoch 46/80\n",
      "1798/1798 [==============================] - 6s 4ms/step - loss: 0.2565 - acc: 0.8938 - val_loss: 0.2499 - val_acc: 0.9017\n",
      "\n",
      "Epoch 00046: val_loss improved from 0.25017 to 0.24992, saving model to best_model_4.h5\n",
      "Epoch 47/80\n",
      "1798/1798 [==============================] - 6s 4ms/step - loss: 0.2498 - acc: 0.8971 - val_loss: 0.2601 - val_acc: 0.8917\n",
      "\n",
      "Epoch 00047: val_loss did not improve from 0.24992\n",
      "Epoch 48/80\n",
      "1798/1798 [==============================] - 6s 4ms/step - loss: 0.2566 - acc: 0.8938 - val_loss: 0.2781 - val_acc: 0.8850\n",
      "\n",
      "Epoch 00048: val_loss did not improve from 0.24992\n",
      "Epoch 49/80\n",
      "1798/1798 [==============================] - 6s 4ms/step - loss: 0.2642 - acc: 0.8888 - val_loss: 0.2465 - val_acc: 0.9050\n",
      "\n",
      "Epoch 00049: val_loss improved from 0.24992 to 0.24652, saving model to best_model_4.h5\n",
      "Epoch 50/80\n",
      "1798/1798 [==============================] - 6s 4ms/step - loss: 0.2569 - acc: 0.8949 - val_loss: 0.2775 - val_acc: 0.8900\n",
      "\n",
      "Epoch 00050: val_loss did not improve from 0.24652\n",
      "Epoch 51/80\n",
      "1798/1798 [==============================] - 6s 4ms/step - loss: 0.2499 - acc: 0.8993 - val_loss: 0.2554 - val_acc: 0.8917\n",
      "\n",
      "Epoch 00051: val_loss did not improve from 0.24652\n",
      "Epoch 52/80\n",
      "1798/1798 [==============================] - 6s 4ms/step - loss: 0.2467 - acc: 0.9010 - val_loss: 0.2456 - val_acc: 0.9000\n",
      "\n",
      "Epoch 00052: val_loss improved from 0.24652 to 0.24565, saving model to best_model_4.h5\n",
      "Epoch 53/80\n",
      "1798/1798 [==============================] - 6s 4ms/step - loss: 0.2478 - acc: 0.8977 - val_loss: 0.2431 - val_acc: 0.8950\n",
      "\n",
      "Epoch 00053: val_loss improved from 0.24565 to 0.24309, saving model to best_model_4.h5\n",
      "Epoch 54/80\n",
      "1798/1798 [==============================] - 6s 4ms/step - loss: 0.2415 - acc: 0.8982 - val_loss: 0.2943 - val_acc: 0.8900\n",
      "\n",
      "Epoch 00054: val_loss did not improve from 0.24309\n",
      "Epoch 55/80\n",
      "1798/1798 [==============================] - 6s 4ms/step - loss: 0.2479 - acc: 0.8966 - val_loss: 0.2432 - val_acc: 0.9000\n",
      "\n",
      "Epoch 00055: val_loss did not improve from 0.24309\n",
      "Epoch 56/80\n",
      "1798/1798 [==============================] - 6s 4ms/step - loss: 0.2487 - acc: 0.8954 - val_loss: 0.2507 - val_acc: 0.8983\n",
      "\n",
      "Epoch 00056: val_loss did not improve from 0.24309\n",
      "Epoch 57/80\n",
      "1798/1798 [==============================] - 6s 4ms/step - loss: 0.2339 - acc: 0.9032 - val_loss: 0.2517 - val_acc: 0.8933\n",
      "\n",
      "Epoch 00057: val_loss did not improve from 0.24309\n",
      "Epoch 58/80\n",
      "1798/1798 [==============================] - 6s 4ms/step - loss: 0.2443 - acc: 0.8982 - val_loss: 0.2450 - val_acc: 0.8983\n",
      "\n",
      "Epoch 00058: val_loss did not improve from 0.24309\n",
      "Epoch 59/80\n",
      "1798/1798 [==============================] - 6s 4ms/step - loss: 0.2414 - acc: 0.8966 - val_loss: 0.2542 - val_acc: 0.8983\n",
      "\n",
      "Epoch 00059: val_loss did not improve from 0.24309\n",
      "Epoch 60/80\n",
      "1798/1798 [==============================] - 6s 4ms/step - loss: 0.2412 - acc: 0.9010 - val_loss: 0.2545 - val_acc: 0.8917\n",
      "\n",
      "Epoch 00060: val_loss did not improve from 0.24309\n",
      "Epoch 61/80\n",
      "1798/1798 [==============================] - 6s 4ms/step - loss: 0.2449 - acc: 0.9016 - val_loss: 0.2459 - val_acc: 0.8967\n",
      "\n",
      "Epoch 00061: val_loss did not improve from 0.24309\n",
      "Epoch 62/80\n",
      "1798/1798 [==============================] - 6s 3ms/step - loss: 0.2497 - acc: 0.8932 - val_loss: 0.2527 - val_acc: 0.9000\n",
      "\n",
      "Epoch 00062: val_loss did not improve from 0.24309\n",
      "Epoch 63/80\n",
      "1798/1798 [==============================] - 6s 4ms/step - loss: 0.2317 - acc: 0.8988 - val_loss: 0.2456 - val_acc: 0.9050\n",
      "\n",
      "Epoch 00063: val_loss did not improve from 0.24309\n",
      "Epoch 64/80\n",
      "1798/1798 [==============================] - 7s 4ms/step - loss: 0.2405 - acc: 0.8943 - val_loss: 0.2460 - val_acc: 0.9033\n",
      "\n",
      "Epoch 00064: val_loss did not improve from 0.24309\n",
      "Epoch 65/80\n",
      "1798/1798 [==============================] - 6s 4ms/step - loss: 0.2465 - acc: 0.9038 - val_loss: 0.2830 - val_acc: 0.8667\n",
      "\n",
      "Epoch 00065: val_loss did not improve from 0.24309\n",
      "Epoch 66/80\n",
      "1798/1798 [==============================] - 6s 4ms/step - loss: 0.2700 - acc: 0.8910 - val_loss: 0.2765 - val_acc: 0.8783\n",
      "\n",
      "Epoch 00066: val_loss did not improve from 0.24309\n",
      "Epoch 67/80\n",
      "1798/1798 [==============================] - 6s 3ms/step - loss: 0.2348 - acc: 0.9071 - val_loss: 0.2517 - val_acc: 0.8850\n",
      "\n",
      "Epoch 00067: val_loss did not improve from 0.24309\n",
      "Epoch 68/80\n",
      "1798/1798 [==============================] - 6s 4ms/step - loss: 0.2366 - acc: 0.9004 - val_loss: 0.2583 - val_acc: 0.8967\n",
      "\n",
      "Epoch 00068: val_loss did not improve from 0.24309\n",
      "Epoch 00068: early stopping\n"
     ]
    }
   ],
   "source": [
    "ep = 80 # Num epochs\n",
    "\n",
    "mc = ModelCheckpoint('best_model_4.h5', monitor='val_loss', mode='min', verbose=1,save_best_only=True)\n",
    "es = EarlyStopping(monitor='val_loss', mode='min', verbose=1, patience=15)\n",
    "history = model.fit(x_train2,y_train2,epochs=ep,validation_split=0.25,callbacks=[es,mc])"
   ]
  },
  {
   "cell_type": "code",
   "execution_count": 25,
   "metadata": {},
   "outputs": [
    {
     "data": {
      "image/png": "[encoded data removed]",
      "text/plain": [
       "<Figure size 576x360 with 1 Axes>"
      ]
     },
     "metadata": {
      "needs_background": "light"
     },
     "output_type": "display_data"
    },
    {
     "data": {
      "image/png": "[encoded data removed]",
      "text/plain": [
       "<Figure size 592.56x360 with 1 Axes>"
      ]
     },
     "metadata": {
      "needs_background": "light"
     },
     "output_type": "display_data"
    }
   ],
   "source": [
    "acc = history.history['acc']\n",
    "val_acc = history.history['val_acc']\n",
    "loss = history.history['loss']\n",
    "val_loss = history.history['val_loss']\n",
    "\n",
    "epochs = range(1,len(acc)+1)\n",
    "\n",
    "eps = len(acc)+1\n",
    "\n",
    "plt.figure(figsize=(8,5))\n",
    "plt.plot(epochs,acc,'o',label='Train acc')\n",
    "plt.plot(epochs,val_acc,'k',label='Validation acc')\n",
    "plt.axis([0,eps,0,1])\n",
    "plt.title('Training vs Validation Accuracy')\n",
    "plt.legend()\n",
    "plt.show()\n",
    "\n",
    "plt.figure(figsize=(8.23,5))\n",
    "plt.plot(epochs,loss,'o',label='Train loss')\n",
    "plt.plot(epochs,val_loss,'k',label='Validation loss')\n",
    "plt.axis([0,eps,0,1.5])\n",
    "plt.title('Training vs Validation Loss')\n",
    "plt.legend()\n",
    "plt.show()"
   ]
  },
  {
   "cell_type": "code",
   "execution_count": 41,
   "metadata": {},
   "outputs": [],
   "source": [
    "# Loading various saved models\n",
    "#saved_best1 = load_model('best_model.h5')\n",
    "saved_best2 = load_model('best_model_2.h5')\n",
    "#saved_best3 = load_model('best_model_3.h5')\n",
    "#saved_best4 = load_model('best_model_4.h5')"
   ]
  },
  {
   "cell_type": "code",
   "execution_count": 163,
   "metadata": {},
   "outputs": [
    {
     "name": "stdout",
     "output_type": "stream",
     "text": [
      "0.918749988079071\n"
     ]
    }
   ],
   "source": [
    "test_loss, test_acc = saved_best2.evaluate(x_test2,y_test2,verbose=0)\n",
    "print(test_acc)"
   ]
  },
  {
   "cell_type": "code",
   "execution_count": 164,
   "metadata": {},
   "outputs": [
    {
     "data": {
      "text/plain": [
       "0.922894424673784"
      ]
     },
     "execution_count": 164,
     "metadata": {},
     "output_type": "execute_result"
    }
   ],
   "source": [
    "ynew_best2 = saved_best2.predict_classes(x_test2)\n",
    "f1_score(y_test2,ynew_best2)"
   ]
  },
  {
   "cell_type": "code",
   "execution_count": 31,
   "metadata": {},
   "outputs": [
    {
     "name": "stdout",
     "output_type": "stream",
     "text": [
      "Model: \"sequential_5\"\n",
      "_________________________________________________________________\n",
      "Layer (type)                 Output Shape              Param #   \n",
      "=================================================================\n",
      "conv2d_21 (Conv2D)           (None, 50, 50, 32)        896       \n",
      "_________________________________________________________________\n",
      "conv2d_22 (Conv2D)           (None, 48, 48, 32)        9248      \n",
      "_________________________________________________________________\n",
      "max_pooling2d_17 (MaxPooling (None, 24, 24, 32)        0         \n",
      "_________________________________________________________________\n",
      "conv2d_23 (Conv2D)           (None, 22, 22, 32)        9248      \n",
      "_________________________________________________________________\n",
      "max_pooling2d_18 (MaxPooling (None, 11, 11, 32)        0         \n",
      "_________________________________________________________________\n",
      "conv2d_24 (Conv2D)           (None, 9, 9, 32)          9248      \n",
      "_________________________________________________________________\n",
      "dropout_9 (Dropout)          (None, 9, 9, 32)          0         \n",
      "_________________________________________________________________\n",
      "max_pooling2d_19 (MaxPooling (None, 4, 4, 32)          0         \n",
      "_________________________________________________________________\n",
      "conv2d_25 (Conv2D)           (None, 2, 2, 64)          18496     \n",
      "_________________________________________________________________\n",
      "max_pooling2d_20 (MaxPooling (None, 1, 1, 64)          0         \n",
      "_________________________________________________________________\n",
      "dropout_10 (Dropout)         (None, 1, 1, 64)          0         \n",
      "_________________________________________________________________\n",
      "flatten_5 (Flatten)          (None, 64)                0         \n",
      "_________________________________________________________________\n",
      "dense_9 (Dense)              (None, 256)               16640     \n",
      "_________________________________________________________________\n",
      "dense_10 (Dense)             (None, 1)                 257       \n",
      "=================================================================\n",
      "Total params: 64,033\n",
      "Trainable params: 64,033\n",
      "Non-trainable params: 0\n",
      "_________________________________________________________________\n"
     ]
    }
   ],
   "source": [
    "saved_best2.summary()"
   ]
  },
  {
   "cell_type": "markdown",
   "metadata": {},
   "source": [
    "***"
   ]
  },
  {
   "cell_type": "markdown",
   "metadata": {},
   "source": [
    "#### ProNet (best_model_2) Generalizability"
   ]
  },
  {
   "cell_type": "code",
   "execution_count": 68,
   "metadata": {},
   "outputs": [
    {
     "name": "stdout",
     "output_type": "stream",
     "text": [
      "7\n",
      "159\n",
      "90\n",
      "214\n",
      "235\n",
      "28\n",
      "177\n",
      "24\n",
      "48\n",
      "147\n",
      "123\n",
      "87\n",
      "65\n",
      "267\n",
      "37\n",
      "10\n",
      "22\n",
      "88\n",
      "30\n",
      "251\n",
      "36\n",
      "72\n",
      "149\n",
      "77\n",
      "98\n",
      "233\n",
      "87\n",
      "220\n",
      "49\n",
      "174\n"
     ]
    }
   ],
   "source": [
    "directory = 'b_cancer_ims'\n",
    "rgb_accs_ProNet = []\n",
    "for i in range(30):\n",
    "    gray_test_labels = [] # 0 = no IDC, 1 = IDC\n",
    "    gray_test_ims = [] # populate with + images\n",
    "\n",
    "    # Selecting random group of conseccutive patients\n",
    "    start_pat1 = random.randint(1,270) # len(os.listdir(directory)) = 280\n",
    "    end_pat = start_pat1 + random.randint(1,3) # Picking at most 3 patients worth of data. Want quick computations\n",
    "\n",
    "    for folder1 in os.listdir(directory)[start_pat1:end_pat]:\n",
    "        for folder2 in os.listdir(directory+'/'+folder1):\n",
    "            for image in os.listdir(directory+'/'+folder1+'/'+folder2)[1:]: #first path not-included\n",
    "                #print(directory+'/'+folder1+'/'+folder2+'/'+image)\n",
    "                im = Image.open(directory+'/'+folder1+'/'+folder2+'/'+image) ################ RGB\n",
    "                if im.size == (50,50): # Discarding non-standardized images.\n",
    "                    if (image[-5]=='0'):\n",
    "                        gray_test_ims.append(asarray(im)/255)\n",
    "                        gray_test_labels.append(0)\n",
    "                    else:\n",
    "                        gray_test_ims.append(asarray(im)/255)\n",
    "                        gray_test_labels.append(1)\n",
    "\n",
    "    gray_test_ims = np.array(gray_test_ims)\n",
    "    gray_test_labels = np.array(gray_test_labels)\n",
    "    \n",
    "    print(start_pat1)\n",
    "    test_loss, test_acc = saved_best1.evaluate(gray_test_ims, gray_test_labels, verbose=0)\n",
    "    rgb_accs_ProNet.append(test_acc)"
   ]
  },
  {
   "cell_type": "code",
   "execution_count": 69,
   "metadata": {},
   "outputs": [
    {
     "name": "stdout",
     "output_type": "stream",
     "text": [
      "0.7573749661445618\n",
      "0.09585876083503603\n"
     ]
    }
   ],
   "source": [
    "print(np.mean(rgb_accs_ProNet))\n",
    "print(np.std(rgb_accs_ProNet))"
   ]
  },
  {
   "cell_type": "markdown",
   "metadata": {},
   "source": [
    "***"
   ]
  },
  {
   "cell_type": "markdown",
   "metadata": {},
   "source": [
    "## AlexNet from Janoczyk & Madabhushi"
   ]
  },
  {
   "cell_type": "markdown",
   "metadata": {},
   "source": [
    "Resizing the images to (32,32,3)"
   ]
  },
  {
   "cell_type": "code",
   "execution_count": 167,
   "metadata": {},
   "outputs": [
    {
     "name": "stdout",
     "output_type": "stream",
     "text": [
      "{0: 1599, 1: 1599}\n",
      "Total instances =  3198\n"
     ]
    }
   ],
   "source": [
    "# Looping over full b cancer img directory\n",
    "directory = 'b_cancer_ims'\n",
    "labels_n = [] # 0 = no IDC, 1 = IDC\n",
    "labels_p = [] \n",
    "ims2_p = [] # populate with + images\n",
    "ims2_n = [] \n",
    "\n",
    "imsize = 32\n",
    "\n",
    "start_pat1 = 93 # Used random.randint(1,270) to get a number, and stuck with it.\n",
    "end_pat = start_pat1 + 7 # Don't want too many images\n",
    "\n",
    "for folder1 in os.listdir(directory)[start_pat1:end_pat]:\n",
    "    for folder2 in os.listdir(directory+'/'+folder1):\n",
    "        for image in os.listdir(directory+'/'+folder1+'/'+folder2)[1:]: #first path not-included\n",
    "            #print(directory+'/'+folder1+'/'+folder2+'/'+image)\n",
    "            im = Image.open(directory+'/'+folder1+'/'+folder2+'/'+image) ############################## RGB\n",
    "            im = im.resize((imsize,imsize))\n",
    "            #if im.size == (50,50): # Discarding non-standardized images, first, will resize later...\n",
    "            if (image[-5]=='0'):\n",
    "                ims2_n.append(asarray(im)/255)\n",
    "                labels_n.append(asarray(0))\n",
    "            else:\n",
    "                ims2_p.append(asarray(im)/255)\n",
    "                labels_p.append(asarray(1))\n",
    "\n",
    "ims2_n = np.array(ims2_n)\n",
    "ims2_p = np.array(ims2_p)\n",
    "labels_p = np.array(labels_p)\n",
    "labels_n = np.array(labels_n)\n",
    "\n",
    "# Equalize num of +/- cases\n",
    "if len(ims2_p)>len(ims2_n):\n",
    "    ims2_p = ims2_p[0:len(ims2_n)]\n",
    "    labels_p = labels_p[0:len(labels_n)]\n",
    "else: \n",
    "    ims2_n = ims2_n[0:len(ims2_p)]\n",
    "    labels_n = labels_n[0:len(labels_p)]\n",
    "    \n",
    "labels = np.concatenate((labels_p,labels_n))\n",
    "ims2 = np.concatenate((ims2_p,ims2_n))\n",
    "\n",
    "unique, counts = np.unique(labels, return_counts=True)\n",
    "print(dict(zip(unique, counts)))\n",
    "print('Total instances = ',2*counts[0])"
   ]
  },
  {
   "cell_type": "code",
   "execution_count": 168,
   "metadata": {},
   "outputs": [],
   "source": [
    "x_train2, x_test2, y_train2, y_test2 = train_test_split(ims2, labels, test_size=0.25)"
   ]
  },
  {
   "cell_type": "code",
   "execution_count": 150,
   "metadata": {},
   "outputs": [],
   "source": [
    "alex = models.Sequential()\n",
    "\n",
    "alex.add(layers.Conv2D(32, (5,5), input_shape=(32,32,3), strides=(1,1), padding='same', activation = \"relu\"))\n",
    "\n",
    "alex.add(layers.MaxPool2D((3,3), strides=(2,2)))\n",
    "alex.add(layers.Activation(activations.relu))\n",
    "\n",
    "alex.add(layers.Conv2D(32, (5,5), strides=(1,1), padding='same',activation = \"relu\"))\n",
    "\n",
    "alex.add(layers.AveragePooling2D((3,3), strides=(2,2)))\n",
    "\n",
    "alex.add(layers.Conv2D(64, (5,5), strides=(1,1), activation = \"relu\"))\n",
    "\n",
    "alex.add(layers.AveragePooling2D((3,3), strides=(2,2)))\n",
    "\n",
    "alex.add(layers.Flatten())\n",
    "#alex.add(layers.Dropout(0.5))\n",
    "alex.add(layers.Dense(64, activation = \"relu\"))\n",
    "#alex.add(layers.Dropout(0.5))\n",
    "alex.add(layers.Dense(1, activation = \"sigmoid\")) # softmax stinks!!\n",
    "\n",
    "opt = optimizers.Adagrad(learning_rate=5e-4) \n",
    "\n",
    "alex.compile(optimizer= opt,\n",
    "              loss= 'binary_crossentropy',\n",
    "              metrics=['acc'])"
   ]
  },
  {
   "cell_type": "code",
   "execution_count": 151,
   "metadata": {},
   "outputs": [
    {
     "name": "stdout",
     "output_type": "stream",
     "text": [
      "Model: \"sequential_43\"\n",
      "_________________________________________________________________\n",
      "Layer (type)                 Output Shape              Param #   \n",
      "=================================================================\n",
      "conv2d_123 (Conv2D)          (None, 32, 32, 32)        2432      \n",
      "_________________________________________________________________\n",
      "max_pooling2d_42 (MaxPooling (None, 15, 15, 32)        0         \n",
      "_________________________________________________________________\n",
      "activation_42 (Activation)   (None, 15, 15, 32)        0         \n",
      "_________________________________________________________________\n",
      "conv2d_124 (Conv2D)          (None, 15, 15, 32)        25632     \n",
      "_________________________________________________________________\n",
      "average_pooling2d_78 (Averag (None, 7, 7, 32)          0         \n",
      "_________________________________________________________________\n",
      "conv2d_125 (Conv2D)          (None, 3, 3, 64)          51264     \n",
      "_________________________________________________________________\n",
      "average_pooling2d_79 (Averag (None, 1, 1, 64)          0         \n",
      "_________________________________________________________________\n",
      "flatten_37 (Flatten)         (None, 64)                0         \n",
      "_________________________________________________________________\n",
      "dense_74 (Dense)             (None, 64)                4160      \n",
      "_________________________________________________________________\n",
      "dense_75 (Dense)             (None, 1)                 65        \n",
      "=================================================================\n",
      "Total params: 83,553\n",
      "Trainable params: 83,553\n",
      "Non-trainable params: 0\n",
      "_________________________________________________________________\n"
     ]
    }
   ],
   "source": [
    "alex.summary()"
   ]
  },
  {
   "cell_type": "code",
   "execution_count": 152,
   "metadata": {
    "collapsed": true,
    "jupyter": {
     "outputs_hidden": true
    }
   },
   "outputs": [
    {
     "name": "stdout",
     "output_type": "stream",
     "text": [
      "Train on 1798 samples, validate on 600 samples\n",
      "Epoch 1/40\n",
      "1798/1798 [==============================] - 3s 2ms/step - loss: 0.6562 - acc: 0.6407 - val_loss: 0.6212 - val_acc: 0.5950\n",
      "\n",
      "Epoch 00001: val_loss improved from inf to 0.62121, saving model to best_model_alex.h5\n",
      "Epoch 2/40\n",
      "1798/1798 [==============================] - 2s 1ms/step - loss: 0.5423 - acc: 0.7786 - val_loss: 0.5669 - val_acc: 0.6683\n",
      "\n",
      "Epoch 00002: val_loss improved from 0.62121 to 0.56687, saving model to best_model_alex.h5\n",
      "Epoch 3/40\n",
      "1798/1798 [==============================] - 2s 1ms/step - loss: 0.4751 - acc: 0.8087 - val_loss: 0.5111 - val_acc: 0.7367\n",
      "\n",
      "Epoch 00003: val_loss improved from 0.56687 to 0.51113, saving model to best_model_alex.h5\n",
      "Epoch 4/40\n",
      "1798/1798 [==============================] - 2s 1ms/step - loss: 0.4433 - acc: 0.8115 - val_loss: 0.4577 - val_acc: 0.8300\n",
      "\n",
      "Epoch 00004: val_loss improved from 0.51113 to 0.45766, saving model to best_model_alex.h5\n",
      "Epoch 5/40\n",
      "1798/1798 [==============================] - 2s 1ms/step - loss: 0.4279 - acc: 0.8315 - val_loss: 0.4464 - val_acc: 0.8067\n",
      "\n",
      "Epoch 00005: val_loss improved from 0.45766 to 0.44636, saving model to best_model_alex.h5\n",
      "Epoch 6/40\n",
      "1798/1798 [==============================] - 2s 1ms/step - loss: 0.4158 - acc: 0.8343 - val_loss: 0.4424 - val_acc: 0.8400\n",
      "\n",
      "Epoch 00006: val_loss improved from 0.44636 to 0.44241, saving model to best_model_alex.h5\n",
      "Epoch 7/40\n",
      "1798/1798 [==============================] - 2s 1ms/step - loss: 0.4085 - acc: 0.8387 - val_loss: 0.4286 - val_acc: 0.8250\n",
      "\n",
      "Epoch 00007: val_loss improved from 0.44241 to 0.42863, saving model to best_model_alex.h5\n",
      "Epoch 8/40\n",
      "1798/1798 [==============================] - 2s 1ms/step - loss: 0.4011 - acc: 0.8471 - val_loss: 0.4240 - val_acc: 0.8267\n",
      "\n",
      "Epoch 00008: val_loss improved from 0.42863 to 0.42398, saving model to best_model_alex.h5\n",
      "Epoch 9/40\n",
      "1798/1798 [==============================] - 2s 1ms/step - loss: 0.3960 - acc: 0.8437 - val_loss: 0.4292 - val_acc: 0.8183\n",
      "\n",
      "Epoch 00009: val_loss did not improve from 0.42398\n",
      "Epoch 10/40\n",
      "1798/1798 [==============================] - 2s 1ms/step - loss: 0.3953 - acc: 0.8420 - val_loss: 0.4177 - val_acc: 0.8383\n",
      "\n",
      "Epoch 00010: val_loss improved from 0.42398 to 0.41771, saving model to best_model_alex.h5\n",
      "Epoch 11/40\n",
      "1798/1798 [==============================] - 2s 1ms/step - loss: 0.3909 - acc: 0.8493 - val_loss: 0.4212 - val_acc: 0.8433\n",
      "\n",
      "Epoch 00011: val_loss did not improve from 0.41771\n",
      "Epoch 12/40\n",
      "1798/1798 [==============================] - 2s 1ms/step - loss: 0.3881 - acc: 0.8487 - val_loss: 0.4394 - val_acc: 0.8083\n",
      "\n",
      "Epoch 00012: val_loss did not improve from 0.41771\n",
      "Epoch 13/40\n",
      "1798/1798 [==============================] - 2s 1ms/step - loss: 0.3847 - acc: 0.8487 - val_loss: 0.4143 - val_acc: 0.8450\n",
      "\n",
      "Epoch 00013: val_loss improved from 0.41771 to 0.41431, saving model to best_model_alex.h5\n",
      "Epoch 14/40\n",
      "1798/1798 [==============================] - 2s 1ms/step - loss: 0.3848 - acc: 0.8465 - val_loss: 0.4117 - val_acc: 0.8417\n",
      "\n",
      "Epoch 00014: val_loss improved from 0.41431 to 0.41169, saving model to best_model_alex.h5\n",
      "Epoch 15/40\n",
      "1798/1798 [==============================] - 2s 1ms/step - loss: 0.3825 - acc: 0.8448 - val_loss: 0.4146 - val_acc: 0.8483\n",
      "\n",
      "Epoch 00015: val_loss did not improve from 0.41169\n",
      "Epoch 16/40\n",
      "1798/1798 [==============================] - 2s 1ms/step - loss: 0.3807 - acc: 0.8521 - val_loss: 0.4195 - val_acc: 0.8483\n",
      "\n",
      "Epoch 00016: val_loss did not improve from 0.41169\n",
      "Epoch 17/40\n",
      "1798/1798 [==============================] - 2s 1ms/step - loss: 0.3805 - acc: 0.8537 - val_loss: 0.4333 - val_acc: 0.8117\n",
      "\n",
      "Epoch 00017: val_loss did not improve from 0.41169\n",
      "Epoch 18/40\n",
      "1798/1798 [==============================] - 2s 1ms/step - loss: 0.3793 - acc: 0.8509 - val_loss: 0.4071 - val_acc: 0.8317\n",
      "\n",
      "Epoch 00018: val_loss improved from 0.41169 to 0.40710, saving model to best_model_alex.h5\n",
      "Epoch 19/40\n",
      "1798/1798 [==============================] - 2s 1ms/step - loss: 0.3790 - acc: 0.8476 - val_loss: 0.4064 - val_acc: 0.8317\n",
      "\n",
      "Epoch 00019: val_loss improved from 0.40710 to 0.40641, saving model to best_model_alex.h5\n",
      "Epoch 20/40\n",
      "1798/1798 [==============================] - 2s 1ms/step - loss: 0.3777 - acc: 0.8487 - val_loss: 0.4186 - val_acc: 0.8150\n",
      "\n",
      "Epoch 00020: val_loss did not improve from 0.40641\n",
      "Epoch 21/40\n",
      "1798/1798 [==============================] - 2s 1ms/step - loss: 0.3760 - acc: 0.8476 - val_loss: 0.4110 - val_acc: 0.8200\n",
      "\n",
      "Epoch 00021: val_loss did not improve from 0.40641\n",
      "Epoch 22/40\n",
      "1798/1798 [==============================] - 2s 1ms/step - loss: 0.3753 - acc: 0.8476 - val_loss: 0.4159 - val_acc: 0.8133\n",
      "\n",
      "Epoch 00022: val_loss did not improve from 0.40641\n",
      "Epoch 23/40\n",
      "1798/1798 [==============================] - 2s 1ms/step - loss: 0.3733 - acc: 0.8476 - val_loss: 0.3987 - val_acc: 0.8450\n",
      "\n",
      "Epoch 00023: val_loss improved from 0.40641 to 0.39866, saving model to best_model_alex.h5\n",
      "Epoch 24/40\n",
      "1798/1798 [==============================] - 2s 1ms/step - loss: 0.3722 - acc: 0.8515 - val_loss: 0.3972 - val_acc: 0.8483\n",
      "\n",
      "Epoch 00024: val_loss improved from 0.39866 to 0.39720, saving model to best_model_alex.h5\n",
      "Epoch 25/40\n",
      "1798/1798 [==============================] - 2s 1ms/step - loss: 0.3722 - acc: 0.8476 - val_loss: 0.4089 - val_acc: 0.8217\n",
      "\n",
      "Epoch 00025: val_loss did not improve from 0.39720\n",
      "Epoch 26/40\n",
      "1798/1798 [==============================] - 2s 1ms/step - loss: 0.3701 - acc: 0.8515 - val_loss: 0.4042 - val_acc: 0.8300\n",
      "\n",
      "Epoch 00026: val_loss did not improve from 0.39720\n",
      "Epoch 27/40\n",
      "1798/1798 [==============================] - 2s 1ms/step - loss: 0.3705 - acc: 0.8532 - val_loss: 0.3992 - val_acc: 0.8350\n",
      "\n",
      "Epoch 00027: val_loss did not improve from 0.39720\n",
      "Epoch 28/40\n",
      "1798/1798 [==============================] - 2s 1ms/step - loss: 0.3703 - acc: 0.8515 - val_loss: 0.3945 - val_acc: 0.8450\n",
      "\n",
      "Epoch 00028: val_loss improved from 0.39720 to 0.39449, saving model to best_model_alex.h5\n",
      "Epoch 29/40\n",
      "1798/1798 [==============================] - 2s 1ms/step - loss: 0.3685 - acc: 0.8521 - val_loss: 0.3946 - val_acc: 0.8467\n",
      "\n",
      "Epoch 00029: val_loss did not improve from 0.39449\n",
      "Epoch 30/40\n",
      "1798/1798 [==============================] - 2s 1ms/step - loss: 0.3688 - acc: 0.8543 - val_loss: 0.4048 - val_acc: 0.8267\n",
      "\n",
      "Epoch 00030: val_loss did not improve from 0.39449\n",
      "Epoch 31/40\n",
      "1798/1798 [==============================] - 2s 1ms/step - loss: 0.3656 - acc: 0.8554 - val_loss: 0.4103 - val_acc: 0.8183\n",
      "\n",
      "Epoch 00031: val_loss did not improve from 0.39449\n",
      "Epoch 32/40\n",
      "1798/1798 [==============================] - 2s 1ms/step - loss: 0.3679 - acc: 0.8532 - val_loss: 0.3966 - val_acc: 0.8333\n",
      "\n",
      "Epoch 00032: val_loss did not improve from 0.39449\n",
      "Epoch 33/40\n",
      "1798/1798 [==============================] - 2s 1ms/step - loss: 0.3648 - acc: 0.8560 - val_loss: 0.4187 - val_acc: 0.8150\n",
      "\n",
      "Epoch 00033: val_loss did not improve from 0.39449\n",
      "Epoch 00033: early stopping\n"
     ]
    }
   ],
   "source": [
    "ep = 40 # Num epochs\n",
    "\n",
    "mc = ModelCheckpoint('best_model_alex.h5', monitor='val_loss', mode='min', verbose=1,save_best_only=True)\n",
    "es = EarlyStopping(monitor='val_loss', mode='min', verbose=1, patience=5)\n",
    "history = alex.fit(x_train2,y_train2,epochs=ep,validation_split=0.25,callbacks=[es,mc])"
   ]
  },
  {
   "cell_type": "code",
   "execution_count": 165,
   "metadata": {},
   "outputs": [],
   "source": [
    "saved_alex = load_model('best_model_alex.h5')"
   ]
  },
  {
   "cell_type": "code",
   "execution_count": 169,
   "metadata": {},
   "outputs": [],
   "source": [
    "ynew = saved_alex.predict_classes(x_test2)"
   ]
  },
  {
   "cell_type": "code",
   "execution_count": 170,
   "metadata": {},
   "outputs": [
    {
     "data": {
      "text/plain": [
       "0.8633754305396097"
      ]
     },
     "execution_count": 170,
     "metadata": {},
     "output_type": "execute_result"
    }
   ],
   "source": [
    "f1_score(y_test2,ynew) # F1-score"
   ]
  },
  {
   "cell_type": "code",
   "execution_count": 171,
   "metadata": {},
   "outputs": [
    {
     "name": "stdout",
     "output_type": "stream",
     "text": [
      "0.8512499928474426\n"
     ]
    }
   ],
   "source": [
    "test_loss, test_acc = saved_alex.evaluate(x_test2,y_test2,verbose=0)\n",
    "print(test_acc)"
   ]
  },
  {
   "cell_type": "code",
   "execution_count": 174,
   "metadata": {},
   "outputs": [
    {
     "data": {
      "image/png": "[encoded data removed]",
      "text/plain": [
       "<Figure size 576x360 with 1 Axes>"
      ]
     },
     "metadata": {
      "needs_background": "light"
     },
     "output_type": "display_data"
    },
    {
     "data": {
      "image/png": "[encoded data removed]",
      "text/plain": [
       "<Figure size 592.56x360 with 1 Axes>"
      ]
     },
     "metadata": {
      "needs_background": "light"
     },
     "output_type": "display_data"
    }
   ],
   "source": [
    "acc = history.history['acc']\n",
    "val_acc = history.history['val_acc']\n",
    "loss = history.history['loss']\n",
    "val_loss = history.history['val_loss']\n",
    "\n",
    "epochs = range(1,len(acc)+1)\n",
    "\n",
    "eps = len(acc)+1\n",
    "\n",
    "plt.figure(figsize=(8,5))\n",
    "plt.plot(epochs,acc,'o',label='Train acc')\n",
    "plt.plot(epochs,val_acc,'k',label='Validation acc')\n",
    "plt.axis([0,eps,0,1])\n",
    "plt.title('Training vs Validation Accuracy')\n",
    "plt.legend()\n",
    "plt.show()\n",
    "\n",
    "plt.figure(figsize=(8.23,5))\n",
    "plt.plot(epochs,loss,'o',label='Train loss')\n",
    "plt.plot(epochs,val_loss,'k',label='Validation loss')\n",
    "plt.axis([0,eps,0,1.5])\n",
    "plt.title('Training vs Validation Loss')\n",
    "plt.legend()\n",
    "plt.show()"
   ]
  },
  {
   "cell_type": "markdown",
   "metadata": {},
   "source": [
    "***"
   ]
  },
  {
   "cell_type": "markdown",
   "metadata": {},
   "source": [
    "#### AlexNet Generalizability"
   ]
  },
  {
   "cell_type": "code",
   "execution_count": 53,
   "metadata": {},
   "outputs": [],
   "source": [
    "saved_best_alex = load_model('best_model_alex.h5')"
   ]
  },
  {
   "cell_type": "code",
   "execution_count": 70,
   "metadata": {},
   "outputs": [
    {
     "name": "stdout",
     "output_type": "stream",
     "text": [
      "188\n",
      "184\n",
      "198\n",
      "192\n",
      "192\n",
      "211\n",
      "181\n",
      "184\n",
      "120\n",
      "115\n",
      "253\n",
      "203\n",
      "210\n",
      "221\n",
      "40\n",
      "145\n",
      "12\n",
      "182\n",
      "146\n",
      "217\n",
      "157\n",
      "254\n",
      "74\n",
      "82\n",
      "213\n",
      "126\n",
      "176\n",
      "55\n",
      "160\n",
      "258\n"
     ]
    }
   ],
   "source": [
    "directory = 'b_cancer_ims'\n",
    "rgb_accs_Alex = []\n",
    "imsize=32\n",
    "for i in range(30):\n",
    "    gray_test_labels = [] # 0 = no IDC, 1 = IDC\n",
    "    gray_test_ims = [] # populate with + images\n",
    "\n",
    "    # Selecting random group of conseccutive patients\n",
    "    start_pat1 = random.randint(1,270) # len(os.listdir(directory)) = 280\n",
    "    end_pat = start_pat1 + random.randint(1,3) # Picking at most 3 patients worth of data. Want quick computations\n",
    "\n",
    "    for folder1 in os.listdir(directory)[start_pat1:end_pat]:\n",
    "        for folder2 in os.listdir(directory+'/'+folder1):\n",
    "            for image in os.listdir(directory+'/'+folder1+'/'+folder2)[1:]: #first path not-included\n",
    "                #print(directory+'/'+folder1+'/'+folder2+'/'+image)\n",
    "                im = Image.open(directory+'/'+folder1+'/'+folder2+'/'+image) ################ RGB\n",
    "                im = im.resize((imsize,imsize))\n",
    "                if (image[-5]=='0'):\n",
    "                    gray_test_ims.append(asarray(im)/255)\n",
    "                    gray_test_labels.append(0)\n",
    "                else:\n",
    "                    gray_test_ims.append(asarray(im)/255)\n",
    "                    gray_test_labels.append(1)\n",
    "\n",
    "    gray_test_ims = np.array(gray_test_ims)\n",
    "    gray_test_labels = np.array(gray_test_labels)\n",
    "    \n",
    "    print(start_pat1)\n",
    "    test_loss, test_acc = saved_best_alex.evaluate(gray_test_ims, gray_test_labels, verbose=0)\n",
    "    rgb_accs_Alex.append(test_acc)"
   ]
  },
  {
   "cell_type": "code",
   "execution_count": 71,
   "metadata": {},
   "outputs": [
    {
     "name": "stdout",
     "output_type": "stream",
     "text": [
      "0.7140772660573323\n",
      "0.1278014579018601\n"
     ]
    }
   ],
   "source": [
    "print(np.mean(rgb_accs_Alex))\n",
    "print(np.std(rgb_accs_Alex))"
   ]
  },
  {
   "cell_type": "markdown",
   "metadata": {},
   "source": [
    "***"
   ]
  },
  {
   "cell_type": "markdown",
   "metadata": {},
   "source": [
    "Tasks: <br>\n",
    "(1 - D) Code a way to easily access all files from \"b_cancer_ims\" dataset.\n",
    "> (A) First code for one patient. <br>\n",
    "\n",
    "(2 - D) Images are already rescaled to (50 px x 50 px), need to grayscale, first. <br>\n",
    "(3 - D) Run the NN from the tutorial on one patient. <br>\n",
    "(4 - D) Loop through a few patients, to make sure accessing code works. <br>\n",
    "(5 - D) Repeat steps (2)-(3) until you can loop through at least 50% of all patients. <br>\n",
    "(6) Read about CNN theory.\n",
    "> (A - D) Review Deep Feedforward Network, architecture included (Ch. 6, Goodfellow) <br>\n",
    "> (B - D) Read about CNN theory (Ch. 9, Goodfellow) <br>\n",
    ">> (i) Read more on parameter sharing. <br>\n",
    ">> (ii) Other examples of convolutions (https://en.wikipedia.org/wiki/Convolution#Applications) <br>\n",
    "\n",
    "> (C - D) Study CNN architecture (Stanford CS231n) <br>\n",
    "> (D - D) Read about Computer Vision (Ch. 12.2, Goodfellow) <br>\n",
    "> (E) History of Machine and Deep Learning (Introduction, Goodfellow; Ch. 1, Chollet) <br>\n",
    "> (F) Read at least classification portion of main paper (Janowczyk & Madabhushi)\n",
    "\n",
    "(7 - D) Go through TensorFlow CNN Tutorial\n",
    "\n",
    "Sub-tasks (interesting explorations): <br>\n",
    "(1 - D) Simple Feed Forward (FF) NN w/ gray <br>\n",
    "(2 - D) Simple FFNN w/ color <br>\n",
    "(3) CNN <br>\n",
    "(4 - D) Data does not seem processed in the correct shapes... <br>\n",
    "(5 - D) Use SVD to compress the images? <br>\n",
    "(6 - D) Find out why the tutorial NN yields basically the same test accuracies for both grayscale and color. <br>\n",
    "(7) Figure out a way to introduce image rotations. <br>\n",
    "(8) Zero-padding. <br>\n",
    "(9 - D) Using different filters for different portions of the images ... Split the images up further. <br>\n",
    "(10 - D) Why does RELU seemingly perform the best? <br>\n",
    "(11 - D) Dropouts? <br>"
   ]
  },
  {
   "cell_type": "markdown",
   "metadata": {},
   "source": [
    "***"
   ]
  },
  {
   "cell_type": "markdown",
   "metadata": {},
   "source": [
    "A few observations\n",
    "> Observation: Will probably want to explore optimizing over the number of epochs. With 7 epochs, test_acc = 0.88, with 10 epochs, test_acc = 0.86. <br>\n",
    "> Observation: With just 3 epochs, we were able to increase the test accuracy by about 4%. <br>\n",
    "> Observation: If I changed all the loss functions to sigmoid, I get the same result as without the CNN!!\n",
    "\n",
    "These observations are probably the result of overfitting!! Couple things to try: <br>\n",
    "> (1) Optimize over the number of epochs (Use the loss function accuracies and other metrics from the model after it's fitted.) <br>\n",
    "> (2) Introduce regularization. <br>\n",
    "> (3) Dropouts. <br>\n",
    "> (4) k-fold validation. <br>\n",
    "> (5) Note: there are more (-) cases than (+), perhaps vet your data, so that you are choosing and even number of each? However, in general there should be more (-) cases than (+) for any disease, so is this dataset representative of the population? (Look into this, if time allows...)"
   ]
  },
  {
   "cell_type": "markdown",
   "metadata": {},
   "source": [
    "***"
   ]
  },
  {
   "cell_type": "markdown",
   "metadata": {},
   "source": [
    "#### Making folders for data used in project. Only took patients 93 - 100 image patches. (Note: The code below does not equalize the number of +/- cases.)"
   ]
  },
  {
   "cell_type": "code",
   "execution_count": 3,
   "metadata": {},
   "outputs": [],
   "source": [
    "# Creating data folders for patients 93 - 100 image patches, Note: # of +/- cases not equalized.\n",
    "directory = 'b_cancer_ims'\n",
    "\n",
    "base_dir = 'b_cancer_small'\n",
    "os.mkdir(base_dir)\n",
    "\n",
    "idc_p = os.path.join(base_dir,'IDCn') # + cases\n",
    "os.mkdir(idc_p)\n",
    "\n",
    "idc_n = os.path.join(base_dir,'IDCp') # - cases\n",
    "os.mkdir(idc_n)\n",
    "\n",
    "# destination directories\n",
    "dst_dir1 = idc_n\n",
    "dst_dir2 = idc_p\n",
    "\n",
    "start_pat0 = 93 # random.randint(1,270) # len(os.listdir(directory)) = 280\n",
    "end_pat0 = start_pat0 + 7 # Don't want too many images\n",
    "\n",
    "for folder1 in os.listdir(directory)[start_pat0:end_pat0]:\n",
    "    for folder2 in os.listdir(directory+'/'+folder1):\n",
    "        for image in os.listdir(directory+'/'+folder1+'/'+folder2)[1:]:\n",
    "            im = Image.open(directory+'/'+folder1+'/'+folder2+'/'+image)\n",
    "            \n",
    "            src_dir = directory+'/'+folder1+'/'+folder2+'/'+image\n",
    "            if ((image.endswith(\".png\")) and (im.size == (50,50))):\n",
    "                if (image[-5]=='0'):\n",
    "                    shutil.copy(src_dir,dst_dir1)\n",
    "                else:\n",
    "                    shutil.copy(src_dir,dst_dir2)\n",
    "                    "
   ]
  },
  {
   "cell_type": "code",
   "execution_count": null,
   "metadata": {},
   "outputs": [],
   "source": []
  }
 ],
 "metadata": {
  "kernelspec": {
   "display_name": "Python 3",
   "language": "python",
   "name": "python3"
  },
  "language_info": {
   "codemirror_mode": {
    "name": "ipython",
    "version": 3
   },
   "file_extension": ".py",
   "mimetype": "text/x-python",
   "name": "python",
   "nbconvert_exporter": "python",
   "pygments_lexer": "ipython3",
   "version": "3.7.4"
  }
 },
 "nbformat": 4,
 "nbformat_minor": 4
}
